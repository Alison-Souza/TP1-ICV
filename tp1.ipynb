{
 "cells": [
  {
   "cell_type": "markdown",
   "metadata": {},
   "source": [
    "# Lendo imagem inicial"
   ]
  },
  {
   "cell_type": "code",
   "execution_count": null,
   "metadata": {
    "collapsed": false
   },
   "outputs": [],
   "source": [
    "import matplotlib.pyplot as plt\n",
    "import numpy as np\n",
    "import cv2\n",
    "\n",
    "# print cv2.__version__\n",
    "# USEI OPENCV VERSÂO 3.1.0\n",
    "\n",
    "# cv2.IMREAD_COLOR or 1: Loads a color image. Any transparency of image will be neglected. It is the default flag.\n",
    "# cv2.IMREAD_GRAYSCALE or 0: Loads image in grayscale mode\n",
    "# cv2.IMREAD_UNCHANGED or -1: Loads image as such including alpha channel\n",
    "\n",
    "# A imagem escolhida deve estar no mesmo diretório do notebook.\n",
    "# Para escolher outra imagem, basta alterar o nome da imagem aqui:\n",
    "image_name = 'page1.jpg'\n",
    "# Lendo imagem sem alterações.\n",
    "img = cv2.imread(image_name, -1)\n",
    "\n",
    "# cv2.imshow('image',img)\n",
    "# cv2.waitKey(0)\n",
    "# cv2.destroyAllWindows()\n",
    "\n",
    "plt.imshow(img, cmap = 'gray', interpolation = 'bicubic')\n",
    "plt.title('Imagem lida'), plt.xticks([]), plt.yticks([])\n",
    "plt.show()"
   ]
  },
  {
   "cell_type": "markdown",
   "metadata": {},
   "source": [
    "# Limiarizando a imagem"
   ]
  },
  {
   "cell_type": "code",
   "execution_count": null,
   "metadata": {
    "collapsed": false
   },
   "outputs": [],
   "source": [
    "# Transformando imagem em escala de cinza.\n",
    "# Necessário para a limiarização (primeiro argumento deve ser em escala de cinza).\n",
    "img2gray = cv2.cvtColor(img, cv2.COLOR_BGR2GRAY)\n",
    "\n",
    "# Limiarização.\n",
    "# Para textos em preto, usar cv.THRESH_BINARY_INV.\n",
    "ret, new_img = cv2.threshold(img2gray, 180, 255, cv2.THRESH_BINARY_INV)\n",
    "\n",
    "plt.imshow(img2gray, cmap = 'gray', interpolation = 'bicubic')\n",
    "plt.title('Imagem cinza'), plt.xticks([]), plt.yticks([])\n",
    "plt.show()\n",
    "\n",
    "plt.imshow(new_img, cmap = 'gray', interpolation = 'bicubic')\n",
    "plt.title('Nova imagem limiarizada'), plt.xticks([]), plt.yticks([])\n",
    "plt.show()"
   ]
  },
  {
   "cell_type": "markdown",
   "metadata": {},
   "source": [
    "# Dilatando palavras para facilitar identificação de contornos"
   ]
  },
  {
   "cell_type": "code",
   "execution_count": null,
   "metadata": {
    "collapsed": false
   },
   "outputs": [],
   "source": [
    "# Janela (matriz de números) necessária na dilatação.\n",
    "# Formato de cruz (vizinhança-4) deu melhores resultados.\n",
    "kernel = cv2.getStructuringElement(cv2.MORPH_CROSS, (3, 3))\n",
    "\n",
    "# Dilatação ajuda a eliminar espaços entre as letras.\n",
    "# Quanto mais iterações, mais dilatada é a imagem.\n",
    "# Devemos tomar cuidado para não dilatar demais e eliminar os espaços entre palavras.\n",
    "dilated = cv2.dilate(new_img, kernel, iterations=4)\n",
    "\n",
    "plt.imshow(kernel, cmap = 'gray', interpolation = 'bicubic')\n",
    "plt.title('Kernel'), plt.xticks([]), plt.yticks([])\n",
    "plt.show()\n",
    "\n",
    "plt.imshow(dilated, cmap = 'gray', interpolation = 'bicubic')\n",
    "plt.title('Imagem dilatada'), plt.xticks([]), plt.yticks([])\n",
    "plt.show()"
   ]
  },
  {
   "cell_type": "markdown",
   "metadata": {},
   "source": [
    "# Identificando os contornos"
   ]
  },
  {
   "cell_type": "code",
   "execution_count": null,
   "metadata": {
    "collapsed": false
   },
   "outputs": [],
   "source": [
    "# cv2.findContours retorna a imagem com os contornos (image), \n",
    "# uma lista de contornos (contours),\n",
    "# e também retorna a hierarquia (hierarchy).\n",
    "image_contours, contours, hierarchy = cv2.findContours(dilated,cv2.RETR_EXTERNAL,cv2.CHAIN_APPROX_SIMPLE)\n",
    "\n",
    "plt.imshow(image_contours, cmap = 'gray', interpolation = 'bicubic')\n",
    "plt.title('Contornos da imagem'), plt.xticks([]), plt.yticks([])\n",
    "plt.show()"
   ]
  },
  {
   "cell_type": "markdown",
   "metadata": {},
   "source": [
    "# Desenhando os retângulos na imagem de saída, escrevendo imagem, e salvando as coordenadas de cada retângulo no arquivo output.txt"
   ]
  },
  {
   "cell_type": "code",
   "execution_count": null,
   "metadata": {
    "collapsed": false,
    "scrolled": true
   },
   "outputs": [],
   "source": [
    "# Abrindo arquivo de texto onde será salvo as coordenadas de cada retângulo.\n",
    "file = open(\"output.txt\", \"w\")\n",
    "\n",
    "for contour in contours:\n",
    "    # boundingRect encontra um retângulo que delimita o contorno.\n",
    "    # Retorna as coordenadas do canto superior esquerdo (x, y),\n",
    "    # e a largura (w) e altura (h) do retângulo.\n",
    "    [x, y, w, h] = cv2.boundingRect(contour)\n",
    "\n",
    "    # Desenha o retângulo encontrado pela boundingRect na imagem original (img).\n",
    "    # O segundo e terceiro argumentos são dois cantos opostos do retângulo (sup esquerdo e inf direito respectivamente).\n",
    "    # O quarto argumento é a cor do retângulo. Tentei deixar vermelho :)\n",
    "    # O quinto argumento é a largura da linha do retângulo.\n",
    "    cv2.rectangle(img, (x, y), (x + w, y + h), (25, 0, 255), 2)\n",
    "\n",
    "    # Escreve no arquivo output.txt as coordenadas de cada retângulo.\n",
    "    file.write(str(x) + \" \" + str(y) + \" \" + str(w) + \" \" + str(h) + \"\\n\")\n",
    "\n",
    "# Fecha o arquivo output.txt.\n",
    "file.close()\n",
    "\n",
    "# Salva a imagem com os retângulos em uma nova imagem.\n",
    "# O nome dessa imagem será new_ + nome_anterior.\n",
    "# Ex: se a imagem original tem nome image, a nova imagem terá o nome new_image.\n",
    "s = 'new_' + image_name\n",
    "cv2.imwrite(s, img)\n",
    "\n",
    "#cv2.imshow('image',img)\n",
    "#cv2.waitKey(0)\n",
    "#cv2.destroyAllWindows()\n",
    "\n",
    "plt.imshow(img, cmap = 'gray', interpolation = 'bicubic')\n",
    "plt.title('Imagem com retangulos'), plt.xticks([]), plt.yticks([])\n",
    "plt.show()"
   ]
  },
  {
   "cell_type": "code",
   "execution_count": null,
   "metadata": {
    "collapsed": true
   },
   "outputs": [],
   "source": []
  }
 ],
 "metadata": {
  "kernelspec": {
   "display_name": "Python 2",
   "language": "python",
   "name": "python2"
  },
  "language_info": {
   "codemirror_mode": {
    "name": "ipython",
    "version": 2
   },
   "file_extension": ".py",
   "mimetype": "text/x-python",
   "name": "python",
   "nbconvert_exporter": "python",
   "pygments_lexer": "ipython2",
   "version": "2.7.13"
  }
 },
 "nbformat": 4,
 "nbformat_minor": 2
}
